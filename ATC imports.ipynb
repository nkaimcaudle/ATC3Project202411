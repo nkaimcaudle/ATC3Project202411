{
 "cells": [
  {
   "cell_type": "code",
   "execution_count": 1,
   "id": "a70c8e91-15cc-4057-be52-54c2758be5e6",
   "metadata": {},
   "outputs": [
    {
     "name": "stdout",
     "output_type": "stream",
     "text": [
      "Note: you may need to restart the kernel to use updated packages.\n"
     ]
    }
   ],
   "source": [
    "pip install -q blackscholes"
   ]
  },
  {
   "cell_type": "code",
   "execution_count": 2,
   "id": "4f8790f5-8ca3-4026-b550-28ea4af93d12",
   "metadata": {},
   "outputs": [],
   "source": [
    "import operator\n",
    "from zoneinfo import ZoneInfo\n",
    "import itertools\n",
    "import datetime\n",
    "import pandas as pd\n",
    "import numpy as np\n",
    "import equinox as eqx\n",
    "import jax\n",
    "from decimal import Decimal\n",
    "import jax.numpy as jnp\n",
    "from typing import Any, Callable, Literal, Self\n",
    "from collections import namedtuple, defaultdict\n",
    "import pyarrow as pa\n",
    "import string\n",
    "import rich\n",
    "from rich import progress\n",
    "\n",
    "import matplotlib.pyplot as plt\n",
    "import scipy\n",
    "import seaborn as sns\n",
    "import pydantic\n",
    "\n",
    "import jax\n",
    "jax.config.update(\"jax_enable_x64\", True)\n",
    "import jax.numpy as jnp\n",
    "from functools import partial\n",
    "import optax\n",
    "# import redis\n",
    "pd.set_option('display.max_columns', 500)\n",
    "\n",
    "import exchange_calendars as xcals\n",
    "import blackscholes\n",
    "\n",
    "from functools import cache"
   ]
  },
  {
   "cell_type": "code",
   "execution_count": null,
   "id": "0ac4f85e-134a-4b3c-a8ff-9ee790c11c63",
   "metadata": {},
   "outputs": [],
   "source": []
  }
 ],
 "metadata": {
  "kernelspec": {
   "display_name": "Python 3 (ipykernel)",
   "language": "python",
   "name": "python3"
  },
  "language_info": {
   "codemirror_mode": {
    "name": "ipython",
    "version": 3
   },
   "file_extension": ".py",
   "mimetype": "text/x-python",
   "name": "python",
   "nbconvert_exporter": "python",
   "pygments_lexer": "ipython3",
   "version": "3.12.6"
  }
 },
 "nbformat": 4,
 "nbformat_minor": 5
}
